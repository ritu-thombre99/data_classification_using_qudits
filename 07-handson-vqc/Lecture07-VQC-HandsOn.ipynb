{
 "cells": [
  {
   "cell_type": "markdown",
   "id": "1ecc2235-07c3-4098-8bb1-cd170f86e5c5",
   "metadata": {},
   "source": [
    "# Lecture 7: hands-on variational quantum classifier"
   ]
  },
  {
   "cell_type": "markdown",
   "id": "793658e6-f6be-4f10-a788-b79a4a4bed27",
   "metadata": {},
   "source": [
    "It's time to apply what you've learned about quantum states, gates, and expectation values: in this hands-on class we will implement a quantum algorithm to perform binary classification of data.\n",
    "\n",
    "After working through this notebook, you will be able to:\n",
    " - describe the structure of variational quantum algorithms\n",
    " - compute the gradient of circuit parameters with PennyLane\n",
    " - describe strategies for data embeddings and circuit ansatz design in variational algorithms\n",
    " - classify data with a variational quantum classifier\n",
    "\n",
    "You may work in groups of up to 4 students. This hands-on is counted as one of the course assignments, and the submission deadline is Monday Feb. 5 at 11:59pm."
   ]
  },
  {
   "cell_type": "code",
   "execution_count": 2,
   "id": "65812e14-324c-435f-ade6-362f6a9ff4be",
   "metadata": {
    "tags": []
   },
   "outputs": [],
   "source": [
    "import pennylane as qml\n",
    "from pennylane import numpy as np\n",
    "# You may need to install matplotlib in your environment\n",
    "# if you do not already have it.\n",
    "import matplotlib.pyplot as plt"
   ]
  },
  {
   "cell_type": "markdown",
   "id": "e089dbd4-504e-4812-9bc1-6ec65ea6166c",
   "metadata": {},
   "source": [
    "## Part 1: Expectation values and quantum gradients"
   ]
  },
  {
   "cell_type": "markdown",
   "id": "7509bf69-25bb-4dcf-8923-9e9f55afb34b",
   "metadata": {},
   "source": [
    "Consider the circuit below with a single parameter that computes the expectation value $\\langle Z \\rangle$.\n",
    "\n",
    "<img src=\"fig/circuit-1.1ry.png\" width=\"300px\"> \n"
   ]
  },
  {
   "cell_type": "markdown",
   "id": "9081d647-6eb7-47b7-a1ba-b299841e7a6e",
   "metadata": {},
   "source": [
    "In class, we learned that the expectation value of an observable, $B$, for state $\\vert \\psi \\rangle$ can be computed analytically by the formula\n",
    "\n",
    "$$\n",
    "\\langle B \\rangle = \\langle \\psi \\vert B \\vert \\psi \\rangle\n",
    "$$\n",
    "\n",
    "Since for our circuit, $\\vert \\psi \\rangle = RY(\\theta) \\vert 0 \\rangle$, we find that $\\langle Z \\rangle$ itself is a *function of* $\\theta$, i.e., \n",
    "\n",
    "$$\n",
    "f(\\theta) = \\langle Z \\rangle = \\langle 0 |  RY^\\dagger(\\theta) B  RY(\\theta) \\vert 0 \\rangle\n",
    "$$\n",
    "\n",
    "This means that we can take the gradient of $\\langle Z \\rangle$ (or any observable) with respect to $\\theta$."
   ]
  },
  {
   "cell_type": "markdown",
   "id": "0d8fea6b-9588-4f19-bc42-ccf244e6b5d4",
   "metadata": {},
   "source": [
    "**Exercise 1.1.** (2 points) Code up a QNode for the circuit above, that takes as input a single parameter `theta`, and execute it for an arbitrary value of `theta`."
   ]
  },
  {
   "cell_type": "code",
   "execution_count": null,
   "id": "fbb47032-e8ca-4554-9288-3a9e5fcbb933",
   "metadata": {},
   "outputs": [],
   "source": []
  },
  {
   "cell_type": "markdown",
   "id": "392ddbac-29dc-442e-a582-37113ba3983e",
   "metadata": {},
   "source": [
    "You probably noticed that the outputs of PennyLane are not normal NumPy arrays, as they have a parameter called `requires_grad`. Under the hood, PennyLane is implemented on top of various automatic differentiation (autodiff) software libraries that allow us to automatically compute gradients of functions with respect to input parameters, even those that come out of a quantum circuit!"
   ]
  },
  {
   "cell_type": "markdown",
   "id": "1800b709-40da-4696-bd88-cdfaec5bcacb",
   "metadata": {},
   "source": [
    "This can be done using the `qml.grad` function. It takes a function as input, and returns a function (with the same signature) that computes the gradient of the input function. To see how this works, try out the example below."
   ]
  },
  {
   "cell_type": "code",
   "execution_count": null,
   "id": "14ac0908-cf40-4e3a-a082-80376234b6ee",
   "metadata": {
    "tags": []
   },
   "outputs": [],
   "source": [
    "def f(x):\n",
    "    return x ** 2\n",
    "\n",
    "grad_f = qml.grad(f)\n",
    "\n",
    "# Call grad_f with input x.\n",
    "# We set x to be a PennyLane NumPy array so that it knows to take the gradient\n",
    "x = np.array(3.0, requires_grad=True)\n",
    "grad_f(x)"
   ]
  },
  {
   "cell_type": "markdown",
   "id": "4926cfa9-bee6-4da8-89e1-1c497459bed5",
   "metadata": {},
   "source": [
    "**Exercise 1.2.** (1 point) Compute the gradient of your QNode from Exercise 1.1. Then, plot the following quantities for a range of angles between $-\\pi$ and $\\pi$:\n",
    " - the output expectation value of the circuit\n",
    " - the gradient of the expectation value of the circuit\n",
    "\n",
    "Do your results make sense? Provide some rationale in the box below."
   ]
  },
  {
   "cell_type": "markdown",
   "id": "e0d34b75-6073-4290-aa5b-aa00b6e600d8",
   "metadata": {},
   "source": []
  },
  {
   "cell_type": "code",
   "execution_count": null,
   "id": "0f250fdb-3fa1-43d0-8b85-4bbb9028f2b5",
   "metadata": {},
   "outputs": [],
   "source": [
    "##################\n",
    "# YOUR CODE HERE #\n",
    "##################\n",
    "# Set up a function to compute gradient values of your QNode, then run it\n"
   ]
  },
  {
   "cell_type": "code",
   "execution_count": null,
   "id": "f97dd3ca-7208-4374-a061-23ce6a6fc9e5",
   "metadata": {},
   "outputs": [],
   "source": [
    "# Generate 100 angles between -π and π\n",
    "angles = np.linspace(-np.pi, np.pi, 100)\n",
    "\n",
    "##################\n",
    "# YOUR CODE HERE #\n",
    "##################\n",
    "# Evaluate the expectation values and gradients for provided angles\n",
    "expectation_values = [circuit(x) for x in angles]\n",
    "gradient_values = [grad_f(x) for x in angles] \n",
    "\n",
    "# Code for plotting \n",
    "plt.plot(angles, expectation_values, label=\"Exp. val.\")\n",
    "plt.plot(angles, gradient_values, label=\"Grad.\")\n",
    "plt.xlabel(\"θ\")\n",
    "plt.ylabel(\"Expval/grad\")\n",
    "plt.legend()"
   ]
  },
  {
   "cell_type": "markdown",
   "id": "6ce618c4-9ca8-4c6c-8408-0affbb90c0e6",
   "metadata": {},
   "source": [
    "The ability to compute gradients means we can *train* quantum circuits to achieve a specific outcome. For example, consider the slightly modified circuit below. \n",
    "\n",
    "<img src=\"fig/circuit-1.3ry.png\" width=\"300px\"> "
   ]
  },
  {
   "cell_type": "markdown",
   "id": "8ad35f73-1818-4547-873c-6536ff26e309",
   "metadata": {},
   "source": [
    "**Exercise 1.3.** (1 point) What is the minimum value of $\\langle Z \\rangle$? Then, consider the above circuit: if we apply a Hadamard then rotate with $RY(\\theta)$, for what value of $\\theta$ will the expectation value $\\langle Z \\rangle$ be minimized?"
   ]
  },
  {
   "cell_type": "markdown",
   "id": "8f754708-2f99-41c8-84f9-cdab2ebfde2f",
   "metadata": {},
   "source": []
  },
  {
   "cell_type": "markdown",
   "id": "7707309e-53df-4306-a717-e21f07d4d8c9",
   "metadata": {},
   "source": [
    "**Exercise 1.4**. (1 point) The code below will find the minimum value of $\\theta$ by performing optimization through *gradient descent*. Study the code, then execute it. Does it align with what you guessed in exercise 1.3? (Discuss why or why not)"
   ]
  },
  {
   "cell_type": "markdown",
   "id": "47c9ed01-79a9-402f-984f-e367e9f68f30",
   "metadata": {},
   "source": []
  },
  {
   "cell_type": "code",
   "execution_count": null,
   "id": "55101599-824e-43fb-9c30-c166233fca27",
   "metadata": {},
   "outputs": [],
   "source": [
    "# First we set up our device and QNode\n",
    "dev = qml.device(\"default.qubit\", wires=1)\n",
    "\n",
    "@qml.qnode(dev)\n",
    "def circuit(theta):\n",
    "    qml.Hadamard(wires=0)\n",
    "    qml.RY(theta, wires=0)\n",
    "    return qml.expval(qml.PauliZ(0))\n",
    "\n",
    "# We now define a cost function for the optimization problem\n",
    "# For this case, the cost is the output expectation value of the circuit,\n",
    "# so we don't technically need to define a separate function. \n",
    "# We do so here just for a nicer abstraction.\n",
    "def cost(x):\n",
    "    return circuit(x)\n",
    "\n",
    "# A PennyLane object that will manage the optimization for us\n",
    "opt = qml.GradientDescentOptimizer(stepsize=0.1)\n",
    "\n",
    "# Number of iterations in the optimization, initial value of \n",
    "# theta, and arrays to hold intermediate results\n",
    "num_iterations = 50\n",
    "theta = np.array(0.3)\n",
    "thetas = []\n",
    "expvals = []\n",
    "\n",
    "# Run the optimization loop: for each theta, perform one \n",
    "# gradient descent step, and store the results\n",
    "for _ in range(num_iterations):\n",
    "    theta, expval = opt.step_and_cost(cost, theta)\n",
    "    \n",
    "    thetas.append(theta)\n",
    "    expvals.append(expval)"
   ]
  },
  {
   "cell_type": "code",
   "execution_count": null,
   "id": "06bd383f-1267-40ed-aac2-62ec6e2de6a7",
   "metadata": {},
   "outputs": [],
   "source": [
    "plt.plot(thetas, label=\"θ\")\n",
    "plt.plot(expvals, label=\"<Z>\")\n",
    "plt.xlabel(\"Iteration\")\n",
    "plt.ylabel(\"Expval or θ\")\n",
    "plt.legend()"
   ]
  },
  {
   "cell_type": "markdown",
   "id": "b27ed092-e44d-4231-9835-d665413d670c",
   "metadata": {},
   "source": [
    "**Exercise 1.5**. (2 points) Suppose you wish to train a circuit with the same structure to prepare the $|-\\rangle$ state. What is a suitable observable to measure as the cost, and why?\n",
    "\n",
    "<img src=\"fig/circuit-1.5ry.png\" width=\"500px\"> \n",
    " Then, using the code from Exercise 1.4 as a starting point, train your circuit to find the optimal value of $\\theta$."
   ]
  },
  {
   "cell_type": "markdown",
   "id": "c6bf1045-c742-4d38-80fa-3f4a02a184c0",
   "metadata": {},
   "source": []
  },
  {
   "cell_type": "code",
   "execution_count": null,
   "id": "8029b915-60d4-4404-b73a-768a478eb2cb",
   "metadata": {},
   "outputs": [],
   "source": []
  },
  {
   "cell_type": "markdown",
   "id": "6e121ef6-0c3f-4e61-aec2-0ec7b1c360b3",
   "metadata": {},
   "source": [
    "## Part 2: The variational quantum classifier"
   ]
  },
  {
   "cell_type": "markdown",
   "id": "d49aff08-2888-4c4c-9b52-d2bbe78ef315",
   "metadata": {},
   "source": [
    "While we have quantum computers today, they are noisy and we can't run very long algorithms on them. However, researchers try to make the best of these devices by developing new types of algorithms that are more suitable, such as *variational quantum algorithms* (VQAs). VQAs work by training parametrized circuits to solve problems. They are built around an iterative exchange between a quantum computer, which runs parametrized circuits and returns measurements, and a classical computer, which interprets those measurement results and informs the quantum computer what to do next.\n",
    "\n",
    "<img src=\"fig/vqa.png\" width=\"500px\">"
   ]
  },
  {
   "cell_type": "markdown",
   "id": "b9b0b187-f9e3-496d-a1de-394c72d560ea",
   "metadata": {},
   "source": [
    "One application of VQAs is machine learning. In fact, trainable, parametrized circuits are sometimes called *quantum neural networks* because we can train them much as we would a regular neural network. A common machine learning task is *binary classification*, the process of determining whether some input data belongs to one of two classes. This is depicted below for both a classical neural network (left) and a quantum neural network (right).\n",
    "\n",
    "<img src=\"fig/nn-qnn.png\" width=\"800px\"> "
   ]
  },
  {
   "cell_type": "markdown",
   "id": "5f105d94-cae8-4273-a4c2-e0f16080c205",
   "metadata": {},
   "source": [
    "In a quantum neural network, classical data is first loaded up, or *embedded*, into a circuit by applying quantum gates whose parameters depend on the data (the yellow block). Then, a circuit with *trainable* parameters is executed (pink part). The actual classification is done at the end based on measurement outcomes (the blue part). The idea is that the trainable part will learn where to \"send\" quantum states such that the measurement output can be correctly interpreted as either one class or the other."
   ]
  },
  {
   "cell_type": "markdown",
   "id": "0d6aacfe-0daf-49f6-b831-c03d711714dd",
   "metadata": {},
   "source": [
    "Below, we will load up and plot some data that you will use a quantum circuit to classify."
   ]
  },
  {
   "cell_type": "code",
   "execution_count": 3,
   "id": "231fbf27-7460-447a-b40a-fa5c99bacf21",
   "metadata": {},
   "outputs": [],
   "source": [
    "from lecture07_helpers import *\n",
    "\n",
    "train_X, train_y, test_X, test_y = load_hands_on_data()"
   ]
  },
  {
   "cell_type": "code",
   "execution_count": 4,
   "id": "daa04dd3-22d5-4af8-9716-807f128d28d5",
   "metadata": {},
   "outputs": [
    {
     "data": {
      "text/plain": [
       "Text(0.5, 1.0, 'Training data')"
      ]
     },
     "execution_count": 4,
     "metadata": {},
     "output_type": "execute_result"
    },
    {
     "data": {
      "image/png": "[encoded data removed]",
      "text/plain": [
       "<Figure size 640x480 with 1 Axes>"
      ]
     },
     "metadata": {},
     "output_type": "display_data"
    }
   ],
   "source": [
    "plot_data(train_X, train_y)\n",
    "plt.title(\"Training data\")"
   ]
  },
  {
   "cell_type": "code",
   "execution_count": 5,
   "id": "5bc085b3-0992-4441-a573-e99e058854ad",
   "metadata": {},
   "outputs": [
    {
     "data": {
      "text/plain": [
       "Text(0.5, 1.0, 'Test data')"
      ]
     },
     "execution_count": 5,
     "metadata": {},
     "output_type": "execute_result"
    },
    {
     "data": {
      "image/png": "[encoded data removed]",
      "text/plain": [
       "<Figure size 640x480 with 1 Axes>"
      ]
     },
     "metadata": {},
     "output_type": "display_data"
    }
   ],
   "source": [
    "plot_data(test_X, test_y)\n",
    "plt.title(\"Test data\")"
   ]
  },
  {
   "cell_type": "markdown",
   "id": "f1f08b92-ff67-4593-bf6d-688edede25de",
   "metadata": {},
   "source": [
    "Next, you'll work through steps to design your own variational classifier. You'll need to decide:\n",
    " - how to encode the input data\n",
    " - what the structure of the \u0000p\u0000u\u0000etrized structure should look like\n",
    " - what observable l\u0000d\u0000 \u0000sure, and how to use that result to perform a classification"
   ]
  },
  {
   "cell_type": "markdown",
   "id": "13d126c8-2dd2-40c7-9479-a62c65078798",
   "metadata": {},
   "source": [
    "### Part 2.1: Encoding"
   ]
  },
  {
   "cell_type": "markdown",
   "id": "45b903c3-b99c-43d4-818c-42c3b789e7e3",
   "metadata": {},
   "source": [
    "**Exercise 2.1**. (1 point) As you can see from the plots, we are working with 2-dimensional input data. It makes sense, then, that our encoding circuit should perform at least two parametrized gates that depend on them. A sensible option is to use 2 qubits, and have each one \"manage\" one part of the data vector. In the function below, apply some rotations to each of two qubits depending on the input data. You may select some gates on your own, or take a look at PennyLane's [embedding templates](https://docs.pennylane.ai/en/stable/introduction/templates.html#embedding-templates) for inspiration."
   ]
  },
  {
   "cell_type": "code",
   "execution_count": null,
   "id": "b53aec99-ed80-4887-8c76-059805897797",
   "metadata": {},
   "outputs": [],
   "source": [
    "dev = qml.device(\"default.qubit\", wires=2)\n",
    "\n",
    "def encode(data_point):\n",
    "    ##################\n",
    "    # YOUR CODE HERE #\n",
    "    ##################\n",
    "    # Apply some quantum gates to two qubits based on the 2-element \n",
    "    # vector data_point\n"
   ]
  },
  {
   "cell_type": "markdown",
   "id": "81359132-7484-499f-a1c1-97d7ed4ceab4",
   "metadata": {},
   "source": [
    "After the data is encoded, the next step is to design the trainable part of the circuit, often called the *ansatz* circuit. This generally consists of repeated layers of parametrized single-qubit gates, and non-parametrized two-qubit gates. Cartoons of some common structures are depicted below (the coloured single-qubit gates may correspond to $RX$, $RY$, etc.):\n",
    "\n",
    "<img src=\"fig/ansatze.png\" width=\"400px\"> \n",
    "\n",
    "These are the gates that, once trained, will map the states prepared in the embedding procedure into parts of the 2-qubit space with measurement outcomes we can interpret as classes."
   ]
  },
  {
   "cell_type": "markdown",
   "id": "59542557-5e82-424c-9901-c48d3a9ae3e2",
   "metadata": {},
   "source": [
    "**Exercise 2.2**. (1 point) Fill in the function below to design an ansatz circuit for your classifier. You'll have to make some decisions about which gates to use, and how many (i.e., the number of parameters). Use the circuit structures above for inspiration, or you can check the documentation for the PennyLane [layer templates](https://docs.pennylane.ai/en/stable/introduction/templates.html#layer-templates)."
   ]
  },
  {
   "cell_type": "code",
   "execution_count": null,
   "id": "1e0e4af1-4de9-44b1-8b8e-1ba722c57eaa",
   "metadata": {},
   "outputs": [],
   "source": [
    "def ansatz(params):\n",
    "    ##################\n",
    "    # YOUR CODE HERE #\n",
    "    ##################\n",
    "    # Apply 1- and 2-qubit gates using the provided parameters; the \n",
    "    # size of the array is up to your choice.\n"
   ]
  },
  {
   "cell_type": "markdown",
   "id": "a573eb3f-456a-48b3-a1ba-abf0563d7d2d",
   "metadata": {},
   "source": [
    "**Exercise 2.3.** (2 points) The final step is to manage the measurement and classification part. You will need to choose an expectation value to measure, and also how that expectation value should map to one of the classes."
   ]
  },
  {
   "cell_type": "code",
   "execution_count": null,
   "id": "c2dda08f-85e9-49d2-93bc-f3c5fe9f4c6e",
   "metadata": {},
   "outputs": [],
   "source": [
    "@qml.qnode(dev)\n",
    "def vqc_model(data_point, params):\n",
    "    # Applies the two functions you wrote previously\n",
    "    encode(data_point)\n",
    "    ansatz(params)\n",
    "\n",
    "    ##################\n",
    "    # YOUR CODE HERE #\n",
    "    ##################\n",
    "    # Select a 1- or 2-qubit observable to measure the\n",
    "    # expectation value of\n",
    "    return qml.expval()"
   ]
  },
  {
   "cell_type": "code",
   "execution_count": null,
   "id": "fb34b80f-556b-4b74-94a8-6b2076d71e19",
   "metadata": {},
   "outputs": [],
   "source": [
    "def make_prediction(model, data_point, params):\n",
    "    \"\"\"\n",
    "    Args:\n",
    "        model (qml.QNode): your VQC QNode\n",
    "        data_point (array): a single data point (2-element array)\n",
    "        params (array): a vector of parameters to go in the QNode\n",
    "\n",
    "    Returns:\n",
    "        (int): the id of the class you think this data point \n",
    "        belongs to.\n",
    "    \"\"\"\n",
    "    # Runs your circuit to get the measurement result\n",
    "    measurement_result = model(data_point, params)\n",
    "    \n",
    "    ##################\n",
    "    # YOUR CODE HERE #\n",
    "    ##################\n",
    "    # Based on the measurement result, predict what class\n",
    "    # the data belongs to. Hint: look at the numerical values of the\n",
    "    # classes, and what the expectation values you measure are.\n",
    "\n",
    "    return "
   ]
  },
  {
   "cell_type": "markdown",
   "id": "631e2c81-6ff6-47ec-956d-35263a23bbf2",
   "metadata": {},
   "source": [
    "Finally, let's put everything together. First, we define a loss function that we will use as a cost. It will give us an idea of how close we are overall to predicting everything correctly. We will also define a function to compute the accuracy of our training process."
   ]
  },
  {
   "cell_type": "code",
   "execution_count": null,
   "id": "b438884c-01ba-40be-85e7-92bf20cd163a",
   "metadata": {},
   "outputs": [],
   "source": [
    "def loss(data, labels, model, params):    \n",
    "    \"\"\"\n",
    "    Args:\n",
    "        data (array): the input data\n",
    "        labels (array): the labels associated to the input data\n",
    "        model (qml.QNode): your VQC QNode\n",
    "        params (array): a vector of parameters to go in the QNode\n",
    "\n",
    "    Returns:\n",
    "        float: the mean-squared loss of your predictions, averaged over\n",
    "        all the input data.\n",
    "    \"\"\"\n",
    "    loss_sum = 0.0\n",
    "\n",
    "    for idx in range(len(data)):\n",
    "        data_point = data[idx]\n",
    "        true_label = labels[idx]\n",
    "        model_output = model(data_point, params)\n",
    "        loss_sum += (model_output - true_label) ** 2\n",
    "\n",
    "    return loss_sum / len(data)\n",
    "\n",
    "\n",
    "def compute_accuracy(data, labels, model, params):\n",
    "    \"\"\"Compute the accuracy of our predictions.\n",
    "    \n",
    "    Args:\n",
    "        data (array): the input data\n",
    "        labels (array): the labels associated to the input data\n",
    "        \n",
    "    Returns:\n",
    "        float: Accuracy of the predictions, returned as a percentage.\n",
    "    \"\"\"    \n",
    "    n_samples = len(data)\n",
    "    \n",
    "    return np.sum(\n",
    "        [make_prediction(model, data[x], params) == labels[x] for x in range(n_samples)\n",
    "    ]) / n_samples"
   ]
  },
  {
   "cell_type": "markdown",
   "id": "d32db300-8ce6-4356-839a-5e62150e51c5",
   "metadata": {},
   "source": [
    "**Exercise 2.4** (2 points). Using the code below, train your model, then test its accuracy on the training and testing data. How well did you do? If things didn't go well, head back up to exercise 2.1 and try adjusting your encoding circuit, ansatz circuit, or the observable you measure. Describe your trial-and-error design process in the box below. See if you can get over 95% accuracy on the testing data!"
   ]
  },
  {
   "cell_type": "markdown",
   "id": "bb69347c-cf8a-4606-a1eb-653c6370e466",
   "metadata": {},
   "source": []
  },
  {
   "cell_type": "code",
   "execution_count": null,
   "id": "204d4adf-035d-448c-8b24-950e0ff9ca77",
   "metadata": {},
   "outputs": [],
   "source": [
    "##################\n",
    "# YOUR CODE HERE #\n",
    "##################\n",
    "# Initialize your parameters; size depends on how many you need for your ansatz\n",
    "params = np.random.normal(size=(4))\n",
    "\n",
    "# Set up the optimizer; you may wish to tune the stepsize\n",
    "# or number of iterations.\n",
    "opt = qml.GradientDescentOptimizer(stepsize=0.1)\n",
    "num_its = 50\n",
    "loss_over_time = []\n",
    "\n",
    "for _ in range(num_its):\n",
    "    (_, _, _, params), _loss = opt.step_and_cost(loss, train_X, train_y, vqc_model, params)\n",
    "    loss_over_time.append(_loss)"
   ]
  },
  {
   "cell_type": "code",
   "execution_count": null,
   "id": "b5390a0a-fb72-4ded-8d6f-641f9f9f7a93",
   "metadata": {},
   "outputs": [],
   "source": [
    "training_accuracy = compute_accuracy(train_accuracyX, train_y, vqc_model, params)\n",
    "testing_accuracy = compute_accuracy(test_X, test_y, vqc_model, params)\n",
    "\n",
    "print(f\"Training accuracy = {training_accuracy}\")\n",
    "print(f\"Testing accuracy = {testing_accuracy}\")"
   ]
  },
  {
   "cell_type": "code",
   "execution_count": null,
   "id": "d95db59e-2e1c-49df-8c26-da2b6fccd8f2",
   "metadata": {},
   "outputs": [],
   "source": []
  }
 ],
 "metadata": {
  "kernelspec": {
   "display_name": "Python 3 (ipykernel)",
   "language": "python",
   "name": "python3"
  },
  "language_info": {
   "codemirror_mode": {
    "name": "ipython",
    "version": 3
   },
   "file_extension": ".py",
   "mimetype": "text/x-python",
   "name": "python",
   "nbconvert_exporter": "python",
   "pygments_lexer": "ipython3",
   "version": "3.10.13"
  }
 },
 "nbformat": 4,
 "nbformat_minor": 5
}
