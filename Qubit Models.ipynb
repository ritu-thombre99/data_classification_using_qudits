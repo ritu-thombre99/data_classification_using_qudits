{
 "cells": [
  {
   "cell_type": "code",
   "execution_count": 1,
   "id": "180deb51",
   "metadata": {},
   "outputs": [],
   "source": [
    "import pennylane as qml\n",
    "from pennylane import numpy as np\n",
    "from functools import partial\n",
    "import matplotlib.pyplot as plt"
   ]
  },
  {
   "cell_type": "code",
   "execution_count": 2,
   "id": "dd820b9a",
   "metadata": {},
   "outputs": [
    {
     "data": {
      "text/plain": [
       "180"
      ]
     },
     "execution_count": 2,
     "metadata": {},
     "output_type": "execute_result"
    }
   ],
   "source": [
    "from datasets import *\n",
    "\n",
    "train_X, test_X, train_y, test_y = get_xor_data(200)\n",
    "len(train_X)"
   ]
  },
  {
   "cell_type": "code",
   "execution_count": 3,
   "id": "ea7ecd8f",
   "metadata": {},
   "outputs": [],
   "source": [
    "s_params_size=1"
   ]
  },
  {
   "cell_type": "code",
   "execution_count": 439,
   "id": "a6888764",
   "metadata": {},
   "outputs": [],
   "source": [
    "dev = qml.device(\"default.qubit\", wires=1)\n",
    "\n",
    "def encode_and_rotate(x_i,s_params,w_params): \n",
    "    # input vector x   \n",
    "    rx_angle = -2*s_params[0]*x_i[0]    \n",
    "    ry_angle = -2*s_params[0]*x_i[1]\n",
    "    qml.RY(ry_angle,0)\n",
    "    qml.RX(rx_angle,0)\n",
    "    qml.RX(-2*w_params[0],0)    \n",
    "    qml.RY(-2*w_params[1],0)\n",
    "    qml.RZ(-2*w_params[2],0)    "
   ]
  },
  {
   "cell_type": "code",
   "execution_count": 440,
   "id": "7b17409c",
   "metadata": {},
   "outputs": [],
   "source": [
    "@qml.qnode(dev)\n",
    "def vqc_model(x_i, params):\n",
    "    s_params,w_params = params[:s_params_size], params[s_params_size:]\n",
    "    encode_and_rotate(x_i, s_params,w_params)\n",
    "    return qml.expval(qml.PauliZ(0))  "
   ]
  },
  {
   "cell_type": "code",
   "execution_count": 441,
   "id": "5d034258",
   "metadata": {},
   "outputs": [],
   "source": [
    "def loss(data, labels, model, params):    \n",
    "    loss_sum = []\n",
    "    for idx in range(len(data)):\n",
    "        data_point = data[idx]\n",
    "        true_label = labels[idx]\n",
    "        model_output = model(data_point, params)\n",
    "        if (model_output<0 and true_label>0) or (model_output>0 and true_label<0):\n",
    "#             print(model_output, true_label)\n",
    "            loss_sum.append((model_output - true_label) ** 2)\n",
    "\n",
    "    return sum(loss_sum)/len(data)\n",
    "#     return sum(loss_sum)/len(loss_sum)\n",
    "#     return loss_sum / len(data)\n",
    "\n",
    "\n",
    "def make_prediction(model, data_point, params):\n",
    "    measurement_result = model(data_point, params)\n",
    "    if measurement_result < 0:\n",
    "        return -1\n",
    "    return 1\n",
    "\n",
    "def compute_accuracy(data, labels, model, params):\n",
    "    n_samples = len(data)\n",
    "#     for x in range(n_samples):\n",
    "#         print(make_prediction(model, data[x], params),labels[x])\n",
    "    return np.sum(\n",
    "        [make_prediction(model, data[x], params) == labels[x] for x in range(n_samples)\n",
    "    ]) / n_samples"
   ]
  },
  {
   "cell_type": "code",
   "execution_count": 442,
   "id": "38b763fb",
   "metadata": {},
   "outputs": [],
   "source": [
    "def get_initial_dataset(train_X,train_Y):\n",
    "    size_to_return = int(0.04*len(train_X))\n",
    "    curr_train_X, curr_train_y = [],[]\n",
    "    idx = np.random.choice(len(train_X), size_to_return)\n",
    "    for i in idx:\n",
    "        curr_train_X.append(train_X[i])        \n",
    "        curr_train_y.append(train_Y[i])\n",
    "    curr_train_X = np.array(curr_train_X, requires_grad=False)\n",
    "    curr_train_y = np.array(curr_train_y, requires_grad=False)\n",
    "    return curr_train_X,curr_train_y"
   ]
  },
  {
   "cell_type": "code",
   "execution_count": 470,
   "id": "81b78dbb",
   "metadata": {
    "scrolled": true
   },
   "outputs": [
    {
     "name": "stdout",
     "output_type": "stream",
     "text": [
      "[-0.3391708   0.48349271 -0.33237846  0.79424996]\n",
      "Iteration: 0 Loss: 1.3426234693539707\n",
      "Iteration: 1 Loss: 1.3364768158243527\n",
      "Iteration: 2 Loss: 1.3298216330208477\n",
      "Iteration: 3 Loss: 1.3339068655626696\n",
      "Iteration: 4 Loss: 1.3269367308745712\n",
      "Iteration: 5 Loss: 1.3250234394975227\n",
      "Iteration: 6 Loss: 1.3285573617417248\n",
      "Iteration: 7 Loss: 1.3205741559221058\n",
      "Iteration: 8 Loss: 1.3118410695721485\n",
      "Iteration: 9 Loss: 1.302274494671817\n",
      "Iteration: 10 Loss: 1.2917840777225376\n",
      "Iteration: 11 Loss: 1.2747332000444809\n",
      "Iteration: 12 Loss: 1.2622465966018204\n",
      "Iteration: 13 Loss: 1.24314418078889\n",
      "Iteration: 14 Loss: 1.2283814633505818\n",
      "Iteration: 15 Loss: 1.217899622079082\n",
      "Iteration: 16 Loss: 1.1951946899099795\n",
      "Iteration: 17 Loss: 1.1769669746116982\n",
      "Iteration: 18 Loss: 1.1572338077485012\n",
      "Iteration: 19 Loss: 1.1359502936554697\n",
      "Iteration: 20 Loss: 1.113100684727024\n",
      "Iteration: 21 Loss: 1.0831886031048814\n",
      "Iteration: 22 Loss: 1.057459407658886\n",
      "Iteration: 23 Loss: 1.0193386379811464\n",
      "Iteration: 24 Loss: 0.9970420840946321\n",
      "Iteration: 25 Loss: 0.9574561836359139\n",
      "Iteration: 26 Loss: 0.9288138065573031\n",
      "Iteration: 27 Loss: 0.9052661909736309\n",
      "Iteration: 28 Loss: 0.8873078671678024\n",
      "Iteration: 29 Loss: 0.8530889449474713\n",
      "Iteration: 30 Loss: 0.814052698411823\n",
      "Iteration: 31 Loss: 0.7815923896472975\n",
      "Iteration: 32 Loss: 0.7059975284268706\n",
      "Iteration: 33 Loss: 0.6380600806356735\n",
      "Iteration: 34 Loss: 0.67086579036389\n",
      "Iteration: 35 Loss: 0.5880437119539421\n",
      "Iteration: 36 Loss: 0.5833692914074768\n",
      "Iteration: 37 Loss: 0.6744485560952702\n",
      "Iteration: 38 Loss: 0.3449689906644572\n",
      "Iteration: 39 Loss: 0.35298985027673135\n",
      "Iteration: 40 Loss: 0.6793950734519215\n",
      "Iteration: 41 Loss: 0.3431654103450913\n",
      "Iteration: 42 Loss: 0.5466674175696367\n",
      "Iteration: 43 Loss: 0.47858888897651675\n",
      "Iteration: 44 Loss: 0.30702724956528965\n",
      "Iteration: 45 Loss: 0.6783923598061967\n",
      "Iteration: 46 Loss: 0.4428037961732282\n",
      "Iteration: 47 Loss: 0.514837722714532\n",
      "Iteration: 48 Loss: 0.4775152804525035\n",
      "Iteration: 49 Loss: 0.48968356342709374\n",
      "Iteration: 50 Loss: 0.5516500451610162\n",
      "Iteration: 51 Loss: 0.36548980741148573\n",
      "Iteration: 52 Loss: 0.5823454264527059\n",
      "Iteration: 53 Loss: 0.4732681076294235\n",
      "Iteration: 54 Loss: 0.5001131896379384\n",
      "Iteration: 55 Loss: 0.479877069341328\n",
      "Iteration: 56 Loss: 0.46342830028867305\n",
      "Iteration: 57 Loss: 0.5416207512109389\n",
      "Iteration: 58 Loss: 0.44854685475881007\n",
      "Iteration: 59 Loss: 0.5145709564501989\n",
      "Iteration: 60 Loss: 0.4776962987437194\n",
      "Iteration: 61 Loss: 0.3505673103163641\n",
      "Iteration: 62 Loss: 0.6538246961343239\n",
      "Iteration: 63 Loss: 0.3399020897154945\n",
      "Iteration: 64 Loss: 0.5789126090145806\n",
      "Iteration: 65 Loss: 0.4755653424482942\n",
      "Iteration: 66 Loss: 0.41927985326368905\n",
      "Iteration: 67 Loss: 0.5251088274072429\n",
      "Iteration: 68 Loss: 0.6201696157945813\n",
      "Iteration: 69 Loss: 0.39838700847232905\n",
      "Iteration: 70 Loss: 0.5045961403011483\n",
      "Iteration: 71 Loss: 0.5195197372967868\n",
      "Iteration: 72 Loss: 0.4780905546246078\n",
      "Iteration: 73 Loss: 0.30637734140835843\n",
      "Iteration: 74 Loss: 0.6903693704928495\n",
      "Iteration: 75 Loss: 0.4420945556123557\n",
      "Iteration: 76 Loss: 0.515807361265056\n",
      "Iteration: 77 Loss: 0.47685743836635663\n",
      "Iteration: 78 Loss: 0.40099485685692826\n",
      "Iteration: 79 Loss: 0.634700448596535\n",
      "Iteration: 80 Loss: 0.5970569221099976\n",
      "Iteration: 81 Loss: 0.42103173686591505\n",
      "Iteration: 82 Loss: 0.5569107079760027\n",
      "Iteration: 83 Loss: 0.5008407009388633\n",
      "Iteration: 84 Loss: 0.4699420996117023\n",
      "Iteration: 85 Loss: 0.4193574611314074\n",
      "Iteration: 86 Loss: 0.5250501510266271\n",
      "Iteration: 87 Loss: 0.6201025161677971\n",
      "Iteration: 88 Loss: 0.39844837024571034\n",
      "Iteration: 89 Loss: 0.5045492407736153\n",
      "Iteration: 90 Loss: 0.5195795080523085\n",
      "Iteration: 91 Loss: 0.47804913101322427\n",
      "Iteration: 92 Loss: 0.30081874295180167\n",
      "Iteration: 93 Loss: 0.69552185349503\n",
      "Iteration: 94 Loss: 0.448025174033001\n",
      "Iteration: 95 Loss: 0.5264002613188522\n",
      "Iteration: 96 Loss: 0.4772267207086414\n",
      "Iteration: 97 Loss: 0.4899527449141899\n",
      "Iteration: 98 Loss: 0.5457821003684842\n",
      "Iteration: 99 Loss: 0.338122273689556\n"
     ]
    }
   ],
   "source": [
    "# start_point_itrs = 50\n",
    "\n",
    "# for _ in range(start_point_itrs):\n",
    "# print(\"__________________________________________________\")\n",
    "s_params_size, w_params_size = 1,3\n",
    "params = np.random.normal(size=(s_params_size+w_params_size))#*100\n",
    "# params = np.array([-0.0100819 ,  0.78670324, -0.29197941,  0.26170104])\n",
    "print(params)\n",
    "# opt = qml.AdamOptimizer(stepsize=0.00087)\n",
    "opt = qml.GradientDescentOptimizer(stepsize=0.009)\n",
    "num_its = 100\n",
    "loss_over_time = []\n",
    "# curr_train_X, curr_train_y = get_initial_dataset(train_X,train_y)\n",
    "for itr in range(num_its):\n",
    "    (_, _, _, params), _loss = opt.step_and_cost(loss, train_X, train_y, vqc_model, params)\n",
    "    loss_over_time.append(_loss)\n",
    "    print(\"Iteration:\",itr, \"Loss:\",_loss)\n",
    "\n"
   ]
  },
  {
   "cell_type": "code",
   "execution_count": null,
   "id": "f84cdb89",
   "metadata": {},
   "outputs": [],
   "source": []
  },
  {
   "cell_type": "code",
   "execution_count": 471,
   "id": "b462f925",
   "metadata": {},
   "outputs": [
    {
     "name": "stdout",
     "output_type": "stream",
     "text": [
      "Training accuracy = 0.4222222222222222\n",
      "Testing accuracy = 0.55\n"
     ]
    }
   ],
   "source": [
    "training_accuracy = compute_accuracy(train_X, train_y, vqc_model, params)\n",
    "testing_accuracy = compute_accuracy(test_X, test_y, vqc_model, params)\n",
    "\n",
    "print(f\"Training accuracy = {training_accuracy}\")\n",
    "print(f\"Testing accuracy = {testing_accuracy}\")"
   ]
  },
  {
   "cell_type": "code",
   "execution_count": 472,
   "id": "ed59c579",
   "metadata": {},
   "outputs": [
    {
     "data": {
      "image/png": "[encoded data removed]",
      "text/plain": [
       "<Figure size 640x480 with 1 Axes>"
      ]
     },
     "metadata": {},
     "output_type": "display_data"
    }
   ],
   "source": [
    "plt.plot(loss_over_time)\n",
    "plt.show()"
   ]
  },
  {
   "cell_type": "code",
   "execution_count": 473,
   "id": "114e9d05",
   "metadata": {},
   "outputs": [
    {
     "data": {
      "text/plain": [
       "tensor([-0.00773873,  0.78467703, -0.37318467,  0.79424996], requires_grad=True)"
      ]
     },
     "execution_count": 473,
     "metadata": {},
     "output_type": "execute_result"
    }
   ],
   "source": [
    "params"
   ]
  },
  {
   "cell_type": "code",
   "execution_count": null,
   "id": "df5cc1e1",
   "metadata": {},
   "outputs": [],
   "source": []
  },
  {
   "cell_type": "code",
   "execution_count": null,
   "id": "7019254e",
   "metadata": {},
   "outputs": [],
   "source": []
  },
  {
   "cell_type": "code",
   "execution_count": null,
   "id": "879f49d2",
   "metadata": {},
   "outputs": [],
   "source": [
    "# https://qiskit-community.github.io/qiskit-machine-learning/stubs/qiskit_machine_learning.algorithms.VQC.html\n",
    "# when benchmarking the WINE and IRIS for ternary classification"
   ]
  },
  {
   "cell_type": "code",
   "execution_count": null,
   "id": "f55c990c",
   "metadata": {},
   "outputs": [],
   "source": []
  },
  {
   "cell_type": "code",
   "execution_count": null,
   "id": "64438c83",
   "metadata": {},
   "outputs": [],
   "source": []
  },
  {
   "cell_type": "code",
   "execution_count": 3,
   "id": "cf949eaa",
   "metadata": {},
   "outputs": [
    {
     "data": {
      "text/plain": [
       "(tensor([[6.3, 3.3, 4.7, 1.6],\n",
       "         [6.5, 3. , 5.8, 2.2],\n",
       "         [5.6, 2.5, 3.9, 1.1],\n",
       "         [5.7, 2.8, 4.5, 1.3],\n",
       "         [6.4, 2.8, 5.6, 2.2],\n",
       "         [4.7, 3.2, 1.6, 0.2],\n",
       "         [6.1, 3. , 4.9, 1.8],\n",
       "         [5. , 3.4, 1.6, 0.4],\n",
       "         [6.4, 2.8, 5.6, 2.1],\n",
       "         [7.9, 3.8, 6.4, 2. ],\n",
       "         [6.7, 3. , 5.2, 2.3],\n",
       "         [6.7, 2.5, 5.8, 1.8],\n",
       "         [6.8, 3.2, 5.9, 2.3],\n",
       "         [4.8, 3. , 1.4, 0.3],\n",
       "         [4.8, 3.1, 1.6, 0.2],\n",
       "         [4.6, 3.6, 1. , 0.2],\n",
       "         [5.7, 4.4, 1.5, 0.4],\n",
       "         [6.7, 3.1, 4.4, 1.4],\n",
       "         [4.8, 3.4, 1.6, 0.2],\n",
       "         [4.4, 3.2, 1.3, 0.2],\n",
       "         [6.3, 2.5, 5. , 1.9],\n",
       "         [6.4, 3.2, 4.5, 1.5],\n",
       "         [5.2, 3.5, 1.5, 0.2],\n",
       "         [5. , 3.6, 1.4, 0.2],\n",
       "         [5.2, 4.1, 1.5, 0.1],\n",
       "         [5.8, 2.7, 5.1, 1.9],\n",
       "         [6. , 3.4, 4.5, 1.6],\n",
       "         [6.7, 3.1, 4.7, 1.5],\n",
       "         [5.4, 3.9, 1.3, 0.4],\n",
       "         [5.4, 3.7, 1.5, 0.2],\n",
       "         [5.5, 2.4, 3.7, 1. ],\n",
       "         [6.3, 2.8, 5.1, 1.5],\n",
       "         [6.4, 3.1, 5.5, 1.8],\n",
       "         [6.6, 3. , 4.4, 1.4],\n",
       "         [7.2, 3.6, 6.1, 2.5],\n",
       "         [5.7, 2.9, 4.2, 1.3],\n",
       "         [7.6, 3. , 6.6, 2.1],\n",
       "         [5.6, 3. , 4.5, 1.5],\n",
       "         [5.1, 3.5, 1.4, 0.2],\n",
       "         [7.7, 2.8, 6.7, 2. ],\n",
       "         [5.8, 2.7, 4.1, 1. ],\n",
       "         [5.2, 3.4, 1.4, 0.2],\n",
       "         [5. , 3.5, 1.3, 0.3],\n",
       "         [5.1, 3.8, 1.9, 0.4],\n",
       "         [5. , 2. , 3.5, 1. ],\n",
       "         [6.3, 2.7, 4.9, 1.8],\n",
       "         [4.8, 3.4, 1.9, 0.2],\n",
       "         [5. , 3. , 1.6, 0.2],\n",
       "         [5.1, 3.3, 1.7, 0.5],\n",
       "         [5.6, 2.7, 4.2, 1.3],\n",
       "         [5.1, 3.4, 1.5, 0.2],\n",
       "         [5.7, 3. , 4.2, 1.2],\n",
       "         [7.7, 3.8, 6.7, 2.2],\n",
       "         [4.6, 3.2, 1.4, 0.2],\n",
       "         [6.2, 2.9, 4.3, 1.3],\n",
       "         [5.7, 2.5, 5. , 2. ],\n",
       "         [5.5, 4.2, 1.4, 0.2],\n",
       "         [6. , 3. , 4.8, 1.8],\n",
       "         [5.8, 2.7, 5.1, 1.9],\n",
       "         [6. , 2.2, 4. , 1. ],\n",
       "         [5.4, 3. , 4.5, 1.5],\n",
       "         [6.2, 3.4, 5.4, 2.3],\n",
       "         [5.5, 2.3, 4. , 1.3],\n",
       "         [5.4, 3.9, 1.7, 0.4],\n",
       "         [5. , 2.3, 3.3, 1. ],\n",
       "         [6.4, 2.7, 5.3, 1.9],\n",
       "         [5. , 3.3, 1.4, 0.2],\n",
       "         [5. , 3.2, 1.2, 0.2],\n",
       "         [5.5, 2.4, 3.8, 1.1],\n",
       "         [6.7, 3. , 5. , 1.7],\n",
       "         [4.9, 3.1, 1.5, 0.2],\n",
       "         [5.8, 2.8, 5.1, 2.4],\n",
       "         [5. , 3.4, 1.5, 0.2],\n",
       "         [5. , 3.5, 1.6, 0.6],\n",
       "         [5.9, 3.2, 4.8, 1.8],\n",
       "         [5.1, 2.5, 3. , 1.1],\n",
       "         [6.9, 3.2, 5.7, 2.3],\n",
       "         [6. , 2.7, 5.1, 1.6],\n",
       "         [6.1, 2.6, 5.6, 1.4],\n",
       "         [7.7, 3. , 6.1, 2.3],\n",
       "         [5.5, 2.5, 4. , 1.3],\n",
       "         [4.4, 2.9, 1.4, 0.2],\n",
       "         [4.3, 3. , 1.1, 0.1],\n",
       "         [6. , 2.2, 5. , 1.5],\n",
       "         [7.2, 3.2, 6. , 1.8],\n",
       "         [4.6, 3.1, 1.5, 0.2],\n",
       "         [5.1, 3.5, 1.4, 0.3],\n",
       "         [4.4, 3. , 1.3, 0.2],\n",
       "         [6.3, 2.5, 4.9, 1.5],\n",
       "         [6.3, 3.4, 5.6, 2.4],\n",
       "         [4.6, 3.4, 1.4, 0.3],\n",
       "         [6.8, 3. , 5.5, 2.1],\n",
       "         [6.3, 3.3, 6. , 2.5],\n",
       "         [4.7, 3.2, 1.3, 0.2],\n",
       "         [6.1, 2.9, 4.7, 1.4],\n",
       "         [6.5, 2.8, 4.6, 1.5],\n",
       "         [6.2, 2.8, 4.8, 1.8],\n",
       "         [7. , 3.2, 4.7, 1.4],\n",
       "         [6.4, 3.2, 5.3, 2.3],\n",
       "         [5.1, 3.8, 1.6, 0.2],\n",
       "         [6.9, 3.1, 5.4, 2.1],\n",
       "         [5.9, 3. , 4.2, 1.5],\n",
       "         [6.5, 3. , 5.2, 2. ],\n",
       "         [5.7, 2.6, 3.5, 1. ],\n",
       "         [5.2, 2.7, 3.9, 1.4],\n",
       "         [6.1, 3. , 4.6, 1.4],\n",
       "         [4.5, 2.3, 1.3, 0.3],\n",
       "         [6.6, 2.9, 4.6, 1.3],\n",
       "         [5.5, 2.6, 4.4, 1.2],\n",
       "         [5.3, 3.7, 1.5, 0.2],\n",
       "         [5.6, 3. , 4.1, 1.3],\n",
       "         [7.3, 2.9, 6.3, 1.8],\n",
       "         [6.7, 3.3, 5.7, 2.1],\n",
       "         [5.1, 3.7, 1.5, 0.4],\n",
       "         [4.9, 2.4, 3.3, 1. ],\n",
       "         [6.7, 3.3, 5.7, 2.5],\n",
       "         [7.2, 3. , 5.8, 1.6],\n",
       "         [4.9, 3.6, 1.4, 0.1],\n",
       "         [6.7, 3.1, 5.6, 2.4],\n",
       "         [4.9, 3. , 1.4, 0.2],\n",
       "         [6.9, 3.1, 4.9, 1.5],\n",
       "         [7.4, 2.8, 6.1, 1.9],\n",
       "         [6.3, 2.9, 5.6, 1.8],\n",
       "         [5.7, 2.8, 4.1, 1.3],\n",
       "         [6.5, 3. , 5.5, 1.8],\n",
       "         [6.3, 2.3, 4.4, 1.3],\n",
       "         [6.4, 2.9, 4.3, 1.3],\n",
       "         [5.6, 2.8, 4.9, 2. ],\n",
       "         [5.9, 3. , 5.1, 1.8],\n",
       "         [5.4, 3.4, 1.7, 0.2],\n",
       "         [6.1, 2.8, 4. , 1.3],\n",
       "         [4.9, 2.5, 4.5, 1.7],\n",
       "         [5.8, 4. , 1.2, 0.2],\n",
       "         [5.8, 2.6, 4. , 1.2],\n",
       "         [7.1, 3. , 5.9, 2.1]], requires_grad=False),\n",
       " tensor([[6.1, 2.8, 4.7, 1.2],\n",
       "         [5.7, 3.8, 1.7, 0.3],\n",
       "         [7.7, 2.6, 6.9, 2.3],\n",
       "         [6. , 2.9, 4.5, 1.5],\n",
       "         [6.8, 2.8, 4.8, 1.4],\n",
       "         [5.4, 3.4, 1.5, 0.4],\n",
       "         [5.6, 2.9, 3.6, 1.3],\n",
       "         [6.9, 3.1, 5.1, 2.3],\n",
       "         [6.2, 2.2, 4.5, 1.5],\n",
       "         [5.8, 2.7, 3.9, 1.2],\n",
       "         [6.5, 3.2, 5.1, 2. ],\n",
       "         [4.8, 3. , 1.4, 0.1],\n",
       "         [5.5, 3.5, 1.3, 0.2],\n",
       "         [4.9, 3.1, 1.5, 0.1],\n",
       "         [5.1, 3.8, 1.5, 0.3]], requires_grad=False),\n",
       " tensor([1, 2, 1, 1, 2, 0, 2, 0, 2, 2, 2, 2, 2, 0, 0, 0, 0, 1, 0, 0, 2, 1,\n",
       "         0, 0, 0, 2, 1, 1, 0, 0, 1, 2, 2, 1, 2, 1, 2, 1, 0, 2, 1, 0, 0, 0,\n",
       "         1, 2, 0, 0, 0, 1, 0, 1, 2, 0, 1, 2, 0, 2, 2, 1, 1, 2, 1, 0, 1, 2,\n",
       "         0, 0, 1, 1, 0, 2, 0, 0, 1, 1, 2, 1, 2, 2, 1, 0, 0, 2, 2, 0, 0, 0,\n",
       "         1, 2, 0, 2, 2, 0, 1, 1, 2, 1, 2, 0, 2, 1, 2, 1, 1, 1, 0, 1, 1, 0,\n",
       "         1, 2, 2, 0, 1, 2, 2, 0, 2, 0, 1, 2, 2, 1, 2, 1, 1, 2, 2, 0, 1, 2,\n",
       "         0, 1, 2], requires_grad=False),\n",
       " tensor([1, 0, 2, 1, 1, 0, 1, 2, 1, 1, 2, 0, 0, 0, 0], requires_grad=False))"
      ]
     },
     "execution_count": 3,
     "metadata": {},
     "output_type": "execute_result"
    }
   ],
   "source": [
    "from datasets import *\n",
    "# get_moon_dataset(100)\n",
    "iris_dataset()"
   ]
  },
  {
   "cell_type": "code",
   "execution_count": null,
   "id": "d723d883",
   "metadata": {},
   "outputs": [],
   "source": []
  }
 ],
 "metadata": {
  "kernelspec": {
   "display_name": "Python [conda env:cpen400q]",
   "language": "python",
   "name": "conda-env-cpen400q-py"
  },
  "language_info": {
   "codemirror_mode": {
    "name": "ipython",
    "version": 3
   },
   "file_extension": ".py",
   "mimetype": "text/x-python",
   "name": "python",
   "nbconvert_exporter": "python",
   "pygments_lexer": "ipython3",
   "version": "3.11.5"
  }
 },
 "nbformat": 4,
 "nbformat_minor": 5
}
